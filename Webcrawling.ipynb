{
 "cells": [
  {
   "cell_type": "code",
   "execution_count": 1,
   "id": "e56dae4a",
   "metadata": {},
   "outputs": [],
   "source": [
    "# Project one: \n",
    "# Let's extract one paragraph from apple.com's article \n",
    "\n",
    "#1. Install Library\n",
    "\n",
    "import requests\n",
    "\n",
    "url = 'https://www.apple.com/newsroom/2021/01/apple-reports-first-quarter-results/'\n",
    "\n",
    "res = requests.get(url)"
   ]
  },
  {
   "cell_type": "code",
   "execution_count": 2,
   "id": "43ba9b0c",
   "metadata": {},
   "outputs": [
    {
     "data": {
      "text/plain": [
       "<Response [200]>"
      ]
     },
     "execution_count": 2,
     "metadata": {},
     "output_type": "execute_result"
    }
   ],
   "source": [
    "#show res - get a response object\n",
    "res"
   ]
  },
  {
   "cell_type": "code",
   "execution_count": 3,
   "id": "8f6ff096",
   "metadata": {
    "scrolled": true
   },
   "outputs": [],
   "source": [
    "#show res content- html code\n",
    "#res.content"
   ]
  },
  {
   "cell_type": "code",
   "execution_count": 4,
   "id": "b09ecef1",
   "metadata": {},
   "outputs": [
    {
     "name": "stdout",
     "output_type": "stream",
     "text": [
      "Requirement already satisfied: beautifulsoup4 in c:\\users\\kohsu\\anaconda3\\lib\\site-packages (4.9.3)\n",
      "Requirement already satisfied: soupsieve>1.2 in c:\\users\\kohsu\\anaconda3\\lib\\site-packages (from beautifulsoup4) (2.2.1)\n"
     ]
    }
   ],
   "source": [
    "#2. install library\n",
    "!pip install beautifulsoup4"
   ]
  },
  {
   "cell_type": "code",
   "execution_count": 5,
   "id": "7658d4da",
   "metadata": {},
   "outputs": [],
   "source": [
    "#3. import bs4 class\n",
    "from bs4 import BeautifulSoup"
   ]
  },
  {
   "cell_type": "code",
   "execution_count": 6,
   "id": "8e38c0da",
   "metadata": {},
   "outputs": [],
   "source": [
    "#4. pass data into variables\n",
    "page_content = res.content.decode(\"utf-8\") # convert byte code to string\n",
    "soup = BeautifulSoup(page_content, \"html.parser\")"
   ]
  },
  {
   "cell_type": "code",
   "execution_count": 7,
   "id": "35c0a1fd",
   "metadata": {},
   "outputs": [],
   "source": [
    "# soup"
   ]
  },
  {
   "cell_type": "code",
   "execution_count": 8,
   "id": "514e46f5",
   "metadata": {},
   "outputs": [],
   "source": [
    "#5. pass the context into a variable\n",
    "# Use object to get Html\n",
    "\n",
    "article = soup.find(\"article\")"
   ]
  },
  {
   "cell_type": "code",
   "execution_count": 9,
   "id": "16688095",
   "metadata": {},
   "outputs": [],
   "source": [
    "# article"
   ]
  },
  {
   "cell_type": "code",
   "execution_count": 10,
   "id": "e1116dd1",
   "metadata": {},
   "outputs": [],
   "source": [
    "# 6. grab the first element from the article\n",
    "\n",
    "p1 = article.find_all(\"div\", class_ = \"pagebody-copy\")[0]"
   ]
  },
  {
   "cell_type": "code",
   "execution_count": 11,
   "id": "42e08828",
   "metadata": {},
   "outputs": [
    {
     "data": {
      "text/plain": [
       "'Cupertino, California — January 27, 2021 — Apple today announced financial results for its fiscal 2021 first quarter ended December 26, 2020. The Company posted all-time record revenue of $111.4 billion, up 21 percent year over year, and quarterly earnings per diluted share of $1.68, up 35 percent. International sales accounted for 64 percent of the quarter’s revenue.\\n'"
      ]
     },
     "execution_count": 11,
     "metadata": {},
     "output_type": "execute_result"
    }
   ],
   "source": [
    "# 7. show the paragraph you need\n",
    "\n",
    "p1.text"
   ]
  },
  {
   "cell_type": "code",
   "execution_count": null,
   "id": "08de81b4",
   "metadata": {},
   "outputs": [],
   "source": []
  },
  {
   "cell_type": "code",
   "execution_count": null,
   "id": "e92b5ab3",
   "metadata": {},
   "outputs": [],
   "source": []
  },
  {
   "cell_type": "code",
   "execution_count": 12,
   "id": "d6f57702",
   "metadata": {},
   "outputs": [],
   "source": [
    "# Project two:\n",
    "# Apply the webcrawiling to extract the movie data from the web\n",
    "\n",
    "import requests\n",
    "\n",
    "url=\"https://learnwithshin.github.io/docs/practices/top_rated_movies/\"\n",
    "\n",
    "res = requests.get(url)"
   ]
  },
  {
   "cell_type": "code",
   "execution_count": 13,
   "id": "04549f8f",
   "metadata": {},
   "outputs": [
    {
     "name": "stdout",
     "output_type": "stream",
     "text": [
      "Requirement already satisfied: beautifulsoup4 in c:\\users\\kohsu\\anaconda3\\lib\\site-packages (4.9.3)\n",
      "Requirement already satisfied: soupsieve>1.2 in c:\\users\\kohsu\\anaconda3\\lib\\site-packages (from beautifulsoup4) (2.2.1)\n"
     ]
    }
   ],
   "source": [
    "!pip install beautifulsoup4"
   ]
  },
  {
   "cell_type": "code",
   "execution_count": 15,
   "id": "4376e88f",
   "metadata": {},
   "outputs": [],
   "source": [
    "from bs4 import BeautifulSoup"
   ]
  },
  {
   "cell_type": "code",
   "execution_count": 16,
   "id": "e1baeb3a",
   "metadata": {},
   "outputs": [],
   "source": [
    "page_content = res.content.decode(\"utf-8\") #transfer to text\n",
    "soup = BeautifulSoup(page_content, \"html.parser\")"
   ]
  },
  {
   "cell_type": "code",
   "execution_count": 17,
   "id": "74917381",
   "metadata": {},
   "outputs": [
    {
     "data": {
      "text/plain": [
       "bs4.element.Tag"
      ]
     },
     "execution_count": 17,
     "metadata": {},
     "output_type": "execute_result"
    }
   ],
   "source": [
    "type(soup.find(\"td\"))"
   ]
  },
  {
   "cell_type": "code",
   "execution_count": 18,
   "id": "9d6102c5",
   "metadata": {},
   "outputs": [
    {
     "data": {
      "text/plain": [
       "<td>The Shawshank Redemption</td>"
      ]
     },
     "execution_count": 18,
     "metadata": {},
     "output_type": "execute_result"
    }
   ],
   "source": [
    "soup.find(\"td\")"
   ]
  },
  {
   "cell_type": "code",
   "execution_count": 19,
   "id": "5209bab1",
   "metadata": {},
   "outputs": [],
   "source": [
    "result = soup.find_all(\"td\")\n",
    "#result"
   ]
  },
  {
   "cell_type": "code",
   "execution_count": 20,
   "id": "fc519aae",
   "metadata": {},
   "outputs": [
    {
     "data": {
      "text/plain": [
       "[]"
      ]
     },
     "execution_count": 20,
     "metadata": {},
     "output_type": "execute_result"
    }
   ],
   "source": [
    "data=[]\n",
    "data"
   ]
  },
  {
   "cell_type": "code",
   "execution_count": 21,
   "id": "98874ae0",
   "metadata": {},
   "outputs": [
    {
     "name": "stdout",
     "output_type": "stream",
     "text": [
      "[{'title': 'The Shawshank Redemption', 'year': '(1994)', 'ranking': '9.2'}, {'title': 'The Godfather', 'year': '(1972)', 'ranking': '9.1'}, {'title': 'The Godfather: Part II', 'year': '(1974)', 'ranking': '9.0'}, {'title': 'The Dark Knight', 'year': '(2008)', 'ranking': '9.0'}, {'title': '12 Angry Men', 'year': '(1957)', 'ranking': '8.9'}, {'title': \"Schindler's List\", 'year': '(1993)', 'ranking': '8.9'}, {'title': 'The Lord of the Rings: The Return of the King', 'year': '(2003)', 'ranking': '8.9'}, {'title': 'Pulp Fiction', 'year': '(1994)', 'ranking': '8.8'}, {'title': 'The Good, the Bad and the Ugly', 'year': '(1966)', 'ranking': '8.8'}, {'title': 'The Lord of the Rings: The Fellowship of the Ring', 'year': '(2001)', 'ranking': '8.8'}]\n"
     ]
    }
   ],
   "source": [
    "# Display the movie data by it's title, year and ranking \n",
    "\n",
    "for num in range(0,30,3):\n",
    "    title=result[num+0].text\n",
    "    year = result[num+1].text\n",
    "    ranking = result[num+2].text\n",
    "    movie = {\"title\":title,\"year\":year,\"ranking\":ranking}\n",
    "    data.append(movie)\n",
    "print(data)"
   ]
  },
  {
   "cell_type": "code",
   "execution_count": 22,
   "id": "e6a22b2d",
   "metadata": {},
   "outputs": [],
   "source": [
    "import pandas as pd"
   ]
  },
  {
   "cell_type": "code",
   "execution_count": 23,
   "id": "bc69a524",
   "metadata": {},
   "outputs": [],
   "source": [
    "# this works becasue we have our result formated in such a way it can be digested by pandans DataFrame\n",
    "movies = pd.DataFrame(result)"
   ]
  },
  {
   "cell_type": "code",
   "execution_count": 25,
   "id": "86d5bd58",
   "metadata": {},
   "outputs": [],
   "source": [
    "top_10_movies = movies.head(10)"
   ]
  },
  {
   "cell_type": "code",
   "execution_count": 26,
   "id": "f277ba6a",
   "metadata": {},
   "outputs": [
    {
     "data": {
      "text/html": [
       "<div>\n",
       "<style scoped>\n",
       "    .dataframe tbody tr th:only-of-type {\n",
       "        vertical-align: middle;\n",
       "    }\n",
       "\n",
       "    .dataframe tbody tr th {\n",
       "        vertical-align: top;\n",
       "    }\n",
       "\n",
       "    .dataframe thead th {\n",
       "        text-align: right;\n",
       "    }\n",
       "</style>\n",
       "<table border=\"1\" class=\"dataframe\">\n",
       "  <thead>\n",
       "    <tr style=\"text-align: right;\">\n",
       "      <th></th>\n",
       "      <th>0</th>\n",
       "    </tr>\n",
       "  </thead>\n",
       "  <tbody>\n",
       "    <tr>\n",
       "      <th>0</th>\n",
       "      <td>The Shawshank Redemption</td>\n",
       "    </tr>\n",
       "    <tr>\n",
       "      <th>1</th>\n",
       "      <td>(1994)</td>\n",
       "    </tr>\n",
       "    <tr>\n",
       "      <th>2</th>\n",
       "      <td>9.2</td>\n",
       "    </tr>\n",
       "    <tr>\n",
       "      <th>3</th>\n",
       "      <td>The Godfather</td>\n",
       "    </tr>\n",
       "    <tr>\n",
       "      <th>4</th>\n",
       "      <td>(1972)</td>\n",
       "    </tr>\n",
       "    <tr>\n",
       "      <th>5</th>\n",
       "      <td>9.1</td>\n",
       "    </tr>\n",
       "    <tr>\n",
       "      <th>6</th>\n",
       "      <td>The Godfather: Part II</td>\n",
       "    </tr>\n",
       "    <tr>\n",
       "      <th>7</th>\n",
       "      <td>(1974)</td>\n",
       "    </tr>\n",
       "    <tr>\n",
       "      <th>8</th>\n",
       "      <td>9.0</td>\n",
       "    </tr>\n",
       "    <tr>\n",
       "      <th>9</th>\n",
       "      <td>The Dark Knight</td>\n",
       "    </tr>\n",
       "  </tbody>\n",
       "</table>\n",
       "</div>"
      ],
      "text/plain": [
       "                          0\n",
       "0  The Shawshank Redemption\n",
       "1                    (1994)\n",
       "2                       9.2\n",
       "3             The Godfather\n",
       "4                    (1972)\n",
       "5                       9.1\n",
       "6    The Godfather: Part II\n",
       "7                    (1974)\n",
       "8                       9.0\n",
       "9           The Dark Knight"
      ]
     },
     "execution_count": 26,
     "metadata": {},
     "output_type": "execute_result"
    }
   ],
   "source": [
    "top_10_movies  # in a nicely formated DataFrame"
   ]
  },
  {
   "cell_type": "code",
   "execution_count": null,
   "id": "e2e383d2",
   "metadata": {},
   "outputs": [],
   "source": [
    "# save the file as csv if need\n",
    "movies.to_csv(\"movies_with_ratings.csv\")"
   ]
  }
 ],
 "metadata": {
  "kernelspec": {
   "display_name": "Python 3",
   "language": "python",
   "name": "python3"
  },
  "language_info": {
   "codemirror_mode": {
    "name": "ipython",
    "version": 3
   },
   "file_extension": ".py",
   "mimetype": "text/x-python",
   "name": "python",
   "nbconvert_exporter": "python",
   "pygments_lexer": "ipython3",
   "version": "3.8.10"
  }
 },
 "nbformat": 4,
 "nbformat_minor": 5
}
